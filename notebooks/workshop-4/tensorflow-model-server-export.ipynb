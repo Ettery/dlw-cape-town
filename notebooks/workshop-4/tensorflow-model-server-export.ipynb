{
 "cells": [
  {
   "cell_type": "code",
   "execution_count": null,
   "metadata": {},
   "outputs": [],
   "source": [
    "import tensorflow as tf"
   ]
  },
  {
   "cell_type": "markdown",
   "metadata": {},
   "source": [
    "# Create Model\n",
    "\\begin{align}\n",
    "y = (a + b) * W\n",
    "\\end{align}"
   ]
  },
  {
   "cell_type": "code",
   "execution_count": null,
   "metadata": {},
   "outputs": [],
   "source": [
    "with tf.name_scope(\"inputs\"):\n",
    "    a = tf.placeholder(tf.float32, (1, 2))\n",
    "    b = tf.placeholder(tf.float32, (1, 2))\n",
    "\n",
    "with tf.name_scope(\"weights\"):\n",
    "    W = tf.Variable([[1., 1.], [1., 1.]])\n",
    "\n",
    "with tf.name_scope(\"outputs\"):\n",
    "    y = tf.matmul(a + b, W)"
   ]
  },
  {
   "cell_type": "markdown",
   "metadata": {},
   "source": [
    "# Train and Save Model"
   ]
  },
  {
   "cell_type": "code",
   "execution_count": null,
   "metadata": {},
   "outputs": [],
   "source": [
    "with tf.Session() as sess:\n",
    "    # train model\n",
    "    sess.run(tf.global_variables_initializer())\n",
    "    sess.run(W.assign([[2., 2.], [2., 2.]]))\n",
    "    \n",
    "    #run model\n",
    "    print(\n",
    "            sess.run(\n",
    "            y,\n",
    "            feed_dict = {\n",
    "                a : [[1, 2]],\n",
    "                b : [[3, 4]]\n",
    "            }\n",
    "        )\n",
    "    )\n",
    "    \n",
    "    # save model\n",
    "    tf.saved_model.simple_save(\n",
    "        sess,\n",
    "        \"tensorflow-server-models/simple-model/1\",\n",
    "        {\"input-a\": a, \"input-b\": b},\n",
    "        {\"output-y\": y}\n",
    "    )"
   ]
  }
 ],
 "metadata": {
  "kernelspec": {
   "display_name": "Python 3",
   "language": "python",
   "name": "python3"
  },
  "language_info": {
   "codemirror_mode": {
    "name": "ipython",
    "version": 3
   },
   "file_extension": ".py",
   "mimetype": "text/x-python",
   "name": "python",
   "nbconvert_exporter": "python",
   "pygments_lexer": "ipython3",
   "version": "3.6.1"
  }
 },
 "nbformat": 4,
 "nbformat_minor": 2
}
