{
 "cells": [
  {
   "cell_type": "markdown",
   "metadata": {},
   "source": [
    "# DLW Practical 2\n",
    "# Regularisation with MNIST\n",
    "\n",
    "**Introduction**\n",
    "\n",
    "In this practical, we will add regularisation to our non-linear model from the previous practical. This is an important concept to understand as many machine learning techniques suffer from over-fitting. A popular regularisation technique is to add a L2 prior over the model parameters, which is a penalty term added to our loss function. This will constrain our model parameters to take on smaller values. A more recent technique to use is called dropout. This randomly drops nodes in certain layers during training and prevents them from co-adapting. It also has advantages in terms of performing model averaging.\n",
    "\n",
    "**Learning objectives**:\n",
    "\n",
    "* To get familiar with L2 regularisation by adding it to the non-linear classifier code.\n",
    "* To understand dropout regularisation by adding it to the non-linear classifier code.\n",
    "* Make sure you understand why regularisation is important by observing the difference between the training set loss and cross-validation set loss.\n",
    "\n",
    "**What is expected of you:**\n",
    "\n",
    "* Implement L2 regularisation by adding a regularisation coefficient and tf.nn.l2_loss() to all the model's weights and add it to the loss function. Read the Tensorflow documentation if you get stuck.\n",
    "* Remove the L2 regularisation and then implement dropout regularisation with a keep_prob coefficient and tf.nn.dropout(). Be careful what you do at test time! Read the Tensorflow documentation if you get stuck.\n",
    "* What observations can you make between the training set loss and cross-validation set loss for both these methods?"
   ]
  },
  {
   "cell_type": "code",
   "execution_count": 3,
   "metadata": {},
   "outputs": [],
   "source": [
    "%matplotlib inline\n",
    "\n",
    "import numpy as np\n",
    "import tensorflow as tf\n",
    "import matplotlib.pyplot as plt\n",
    "from tensorflow.examples.tutorials.mnist import input_data"
   ]
  },
  {
   "cell_type": "code",
   "execution_count": 4,
   "metadata": {},
   "outputs": [],
   "source": [
    "def display_mnist_images(gens, num_images):\n",
    "    plt.rcParams['image.interpolation'] = 'nearest'\n",
    "    plt.rcParams['image.cmap'] = 'gray'\n",
    "    fig, axs = plt.subplots(1, num_images, figsize=(25, 3))\n",
    "    for i in range(num_images):\n",
    "        reshaped_img = (gens[i].reshape(28, 28) * 255).astype(np.uint8)\n",
    "        axs.flat[i].imshow(reshaped_img)\n",
    "    plt.show()"
   ]
  },
  {
   "cell_type": "code",
   "execution_count": null,
   "metadata": {},
   "outputs": [
    {
     "name": "stdout",
     "output_type": "stream",
     "text": [
      "Extracting MNIST_data/train-images-idx3-ubyte.gz\n",
      "Extracting MNIST_data/train-labels-idx1-ubyte.gz\n",
      "Extracting MNIST_data/t10k-images-idx3-ubyte.gz\n",
      "Extracting MNIST_data/t10k-labels-idx1-ubyte.gz\n",
      "Epoch 1:\n",
      "training-cross-entropy-loss = 311.9863\n",
      "validation-cross-entropy-loss = 230.6362\n",
      "\n"
     ]
    }
   ],
   "source": [
    "# download MNIST dataset #\n",
    "mnist = input_data.read_data_sets(\"MNIST_data/\", one_hot=True)\n",
    "\n",
    "# visualize random MNIST images #\n",
    "batch_xs, batch_ys = mnist.train.next_batch(10)\n",
    "list_of_images = np.split(batch_xs, 10)\n",
    "#   display_mnist_images(list_of_images, 10)\n",
    "\n",
    "x_dim, train_examples, n_classes = mnist.train.images.shape[1], mnist.train.num_examples, mnist.train.labels.shape[1]\n",
    "\n",
    "######################################\n",
    "# define the model (build the graph) #\n",
    "######################################\n",
    "\n",
    "n_hidden = 100\n",
    "x = tf.placeholder(tf.float32, [None, x_dim])\n",
    "Wx = tf.Variable(tf.random_normal([x_dim, n_hidden]))\n",
    "bx = tf.Variable(tf.ones([n_hidden]))\n",
    "h = tf.nn.relu(tf.add(tf.matmul(x, Wx), bx))\n",
    "Wh = tf.Variable(tf.random_normal([n_hidden, n_classes]))\n",
    "bh = tf.Variable(tf.ones([n_classes]))\n",
    "y = tf.placeholder(tf.float32, [None, n_classes])\n",
    "y_ = tf.add(tf.matmul(h, Wh), bh)\n",
    "prob = tf.nn.softmax(y_)\n",
    "\n",
    "########################\n",
    "# define loss function #\n",
    "########################\n",
    "\n",
    "regularisation_coeff = 0.01\n",
    "\n",
    "cross_entropy_loss = tf.reduce_mean(tf.nn.softmax_cross_entropy_with_logits_v2(logits=y_, labels=y)) + \\\n",
    "regularisation_coeff*tf.nn.l2_loss(Wx) + regularisation_coeff*tf.nn.l2_loss(bx) + \\\n",
    "regularisation_coeff*tf.nn.l2_loss(Wh) + regularisation_coeff*tf.nn.l2_loss(bh)\n",
    "\n",
    "learning_rate = 0.01\n",
    "\n",
    "train_step = tf.train.GradientDescentOptimizer(learning_rate).minimize(cross_entropy_loss)\n",
    "\n",
    "###########################\n",
    "# define model evaluation #\n",
    "###########################\n",
    "\n",
    "actual_class, predicted_class = tf.argmax(y, 1), tf.argmax(prob, 1)\n",
    "correct_prediction = tf.cast(tf.equal(predicted_class, actual_class), tf.float32)\n",
    "classification_accuracy = tf.reduce_mean(correct_prediction)\n",
    "\n",
    "#########################\n",
    "# define training cycle #\n",
    "#########################\n",
    "\n",
    "num_epochs = 100\n",
    "batch_size = 20\n",
    "\n",
    "# initializing the variables before starting the session #\n",
    "init = tf.global_variables_initializer()\n",
    "\n",
    "# launch the graph in a session (use the session as a context manager) #\n",
    "with tf.Session() as sess:\n",
    "    # run session #\n",
    "    sess.run(init)\n",
    "    # start main training cycle #\n",
    "    for epoch in range(num_epochs):\n",
    "        avg_cost = 0.\n",
    "        total_batch = int(mnist.train.num_examples / batch_size)\n",
    "        # loop over all batches #\n",
    "        for i in range(total_batch):\n",
    "            batch_x, batch_y = mnist.train.next_batch(batch_size)\n",
    "            # run optimization op (backprop), cost op and accuracy op (to get training losses) #\n",
    "            _, c, a = sess.run([train_step, cross_entropy_loss, classification_accuracy], feed_dict={x: batch_x, y: batch_y})\n",
    "            # compute avg training loss and avg training accuracy #\n",
    "            avg_cost += c / total_batch\n",
    "        # display logs per epoch step #\n",
    "        if epoch % 10 == 0:\n",
    "            cost_eval = cross_entropy_loss.eval(feed_dict={x: mnist.validation.images, y: mnist.validation.labels})\n",
    "            print(\"Epoch {}:\\ntraining-cross-entropy-loss = {:.4f}\\nvalidation-cross-entropy-loss = {:.4f}\\n\".format(epoch + 1, avg_cost, cost_eval))\n",
    "    print(\"Optimization Finished!\")\n",
    "    # calculate test set accuracy #\n",
    "    test_accuracy = classification_accuracy.eval({x: mnist.test.images, y: mnist.test.labels})\n",
    "    print(\"Accuracy on test set = {:.3f}%\".format(test_accuracy * 100))"
   ]
  },
  {
   "cell_type": "code",
   "execution_count": null,
   "metadata": {
    "collapsed": true
   },
   "outputs": [],
   "source": []
  }
 ],
 "metadata": {
  "kernelspec": {
   "display_name": "Python 3",
   "language": "python",
   "name": "python3"
  },
  "language_info": {
   "codemirror_mode": {
    "name": "ipython",
    "version": 3
   },
   "file_extension": ".py",
   "mimetype": "text/x-python",
   "name": "python",
   "nbconvert_exporter": "python",
   "pygments_lexer": "ipython3",
   "version": "3.6.1"
  }
 },
 "nbformat": 4,
 "nbformat_minor": 2
}
