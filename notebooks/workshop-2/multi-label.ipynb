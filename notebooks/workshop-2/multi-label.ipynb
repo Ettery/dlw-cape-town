{
 "cells": [
  {
   "cell_type": "markdown",
   "metadata": {},
   "source": [
    "# DLW Practical 2\n",
    "# Multi-label task with MNIST\n",
    "\n",
    "**Introduction**\n",
    "\n",
    "In this practical, you can play with multi-label classification using MNIST. Multi-label classification is a generalisation of multi-class classification. Multiple target labels can be assigned to each observation instead of only one like in multi-class classification. This relates to finding a model that maps inputs x to binary vectors y, where each y can take on values between 0 - 1.\n",
    "\n",
    "**Learning objectives**:\n",
    "\n",
    "* We have create more labels for the MNIST dataset (i.e., a prime number label and an even number label). You can create more if you like.\n",
    "* How would you change the output units of the network to accommodate this task? \n",
    "* How should the cost function be changed?"
   ]
  },
  {
   "cell_type": "code",
   "execution_count": 1,
   "metadata": {},
   "outputs": [],
   "source": [
    "%matplotlib inline\n",
    "\n",
    "import numpy as np\n",
    "import tensorflow as tf\n",
    "import matplotlib.pyplot as plt\n",
    "from tensorflow.examples.tutorials.mnist import input_data"
   ]
  },
  {
   "cell_type": "code",
   "execution_count": 2,
   "metadata": {},
   "outputs": [],
   "source": [
    "def even_labels(image_labels, one_hot=False):\n",
    "    even_labels = 1 - image_labels.argmax(axis=1) % 2\n",
    "    if one_hot:\n",
    "        return pd.get_dummies(even_labels).as_matrix()\n",
    "    return even_labels.reshape(-1, 1)"
   ]
  },
  {
   "cell_type": "code",
   "execution_count": 3,
   "metadata": {},
   "outputs": [],
   "source": [
    "def prime_labels(image_labels, one_hot=False):\n",
    "    prime_labels = np.in1d(image_labels.argmax(axis=1), [2, 3, 5, 7]).astype(int)\n",
    "    if one_hot:\n",
    "        return pd.get_dummies(prime_labels).as_matrix()\n",
    "    return prime_labels.reshape(-1, 1)"
   ]
  },
  {
   "cell_type": "code",
   "execution_count": 4,
   "metadata": {},
   "outputs": [],
   "source": [
    "def linear_model(x_dim, n_classes):\n",
    "    x = tf.placeholder(tf.float32, [None, x_dim])\n",
    "    W = tf.Variable(tf.random_normal([x_dim, n_classes], stddev=np.sqrt(1. / x_dim)))\n",
    "    b = tf.Variable(tf.zeros([n_classes]))\n",
    "    y_ = tf.add(tf.matmul(x, W), b)\n",
    "    y = tf.placeholder(tf.float32, [None, n_classes])\n",
    "    return x, W, b, y, y_"
   ]
  },
  {
   "cell_type": "code",
   "execution_count": 5,
   "metadata": {},
   "outputs": [],
   "source": [
    "def next_batch(num, data, labels):\n",
    "    idx = np.arange(0, len(data))\n",
    "    np.random.shuffle(idx)\n",
    "    idx = idx[:num]\n",
    "    data_shuffle = [data[i] for i in idx]\n",
    "    labels_shuffle = [labels[i] for i in idx]\n",
    "    return np.asarray(data_shuffle), np.asarray(labels_shuffle)"
   ]
  },
  {
   "cell_type": "code",
   "execution_count": 8,
   "metadata": {},
   "outputs": [
    {
     "name": "stdout",
     "output_type": "stream",
     "text": [
      "Extracting ../../data/mnist/train-images-idx3-ubyte.gz\n",
      "Extracting ../../data/mnist/train-labels-idx1-ubyte.gz\n",
      "Extracting ../../data/mnist/t10k-images-idx3-ubyte.gz\n",
      "Extracting ../../data/mnist/t10k-labels-idx1-ubyte.gz\n",
      "\n",
      "Training: (55000, 784)\n",
      "Validation: (5000, 784)\n",
      "Testing: (10000, 784)\n",
      "\n",
      "Epochs: 10\n",
      "Mini-batch size: 50\n",
      "Number of mini-batches: 1100\n",
      "\n",
      "Epoch: 0\n",
      "Training: 0.553 (loss), 78.593 (accuracy)\n",
      "Validation: 0.474 (loss), 84.397 (accuracy)\n",
      "--------------------------------------------\n",
      "\n",
      "Epoch: 5\n",
      "Training: 0.352 (loss), 87.070 (accuracy)\n",
      "Validation: 0.347 (loss), 87.173 (accuracy)\n",
      "--------------------------------------------\n",
      "\n",
      "Accuracy on test set: 87.97\n"
     ]
    }
   ],
   "source": [
    "# download MNIST dataset #\n",
    "mnist = input_data.read_data_sets('../../data/mnist/', one_hot=True)\n",
    "\n",
    "print('\\nTraining: {}\\nValidation: {}\\nTesting: {}\\n'.format(mnist.train.images.shape, mnist.validation.images.shape, mnist.test.images.shape))\n",
    "\n",
    "train_x, train_y = mnist.train.images, np.concatenate((mnist.train.labels, even_labels(mnist.train.labels, one_hot=False), prime_labels(mnist.train.labels, one_hot=False)), axis=1)\n",
    "val_x, val_y = mnist.validation.images, np.concatenate((mnist.validation.labels, even_labels(mnist.validation.labels, one_hot=False), prime_labels(mnist.validation.labels, one_hot=False)), axis=1)\n",
    "test_x, test_y = mnist.test.images, np.concatenate((mnist.test.labels, even_labels(mnist.test.labels, one_hot=False), prime_labels(mnist.test.labels, one_hot=False)), axis=1)\n",
    "\n",
    "train_examples, x_dim, n_classes = train_x.shape[0], train_x.shape[1], train_y.shape[1]\n",
    "\n",
    "#########################\n",
    "# define training cycle #\n",
    "#########################\n",
    "\n",
    "epochs = 10\n",
    "minibatch_size = 50\n",
    "num_minibatches = int(mnist.train.num_examples / minibatch_size)\n",
    "\n",
    "print('Epochs: {}\\nMini-batch size: {}\\nNumber of mini-batches: {}\\n'.format(epochs, minibatch_size, num_minibatches))\n",
    "\n",
    "graph = tf.Graph()\n",
    "\n",
    "with graph.as_default():\n",
    "\n",
    "    x, W, b, y, y_ = linear_model(x_dim, n_classes)\n",
    "\n",
    "    #############################\n",
    "    # define loss/cost function #\n",
    "    #############################\n",
    "\n",
    "    cross_entropy_loss = tf.reduce_mean(tf.nn.sigmoid_cross_entropy_with_logits(logits=y_, labels=y))\n",
    "\n",
    "    # define backpropgagation algorithm/optimiser #\n",
    "    learning_rate = 0.001\n",
    "    train_step = tf.train.GradientDescentOptimizer(learning_rate).minimize(cross_entropy_loss)\n",
    "\n",
    "    ###########################\n",
    "    # define model evaluation #\n",
    "    ###########################\n",
    "\n",
    "    act_class, pred_class = y, tf.round(tf.nn.sigmoid(y_))\n",
    "    correct_prediction = tf.cast(tf.equal(pred_class, act_class), tf.float32)\n",
    "    classification_accuracy = tf.reduce_mean(correct_prediction)\n",
    "\n",
    "    # initializing the variables before starting the session #\n",
    "    init = tf.global_variables_initializer()\n",
    "    # launch the graph in a session (use the session as a context manager) #\n",
    "    with tf.Session() as sess:\n",
    "        sess.run(init)\n",
    "        # loop every epoch #\n",
    "        for epoch in range(epochs):\n",
    "            # average cost per epoch #\n",
    "            train_avg_cost = 0.\n",
    "            train_avg_acc = 0.\n",
    "            # loop every mini-batch #\n",
    "            for i in range(num_minibatches):\n",
    "                # get next mini-batch #\n",
    "                batch_xs, batch_ys = next_batch(minibatch_size, train_x, train_y)\n",
    "                # train network #\n",
    "                sess.run([train_step], feed_dict={x: batch_xs, y: batch_ys})\n",
    "                # evaluate network #\n",
    "                train_cross_ent_loss, train_accuracy = sess.run([cross_entropy_loss, classification_accuracy], feed_dict={x: batch_xs, y: batch_ys})\n",
    "                train_avg_cost += train_cross_ent_loss / num_minibatches\n",
    "                train_avg_acc += train_accuracy / num_minibatches\n",
    "\n",
    "            val_cross_ent_loss, val_accuracy = sess.run([cross_entropy_loss, classification_accuracy], feed_dict={x: val_x, y: val_y})\n",
    "\n",
    "            if epoch % 5 == 0:\n",
    "                print(\"Epoch: {}\".format(epoch))\n",
    "                print(\"Training: {:.3f} (loss), {:.3f} (accuracy)\".format(train_avg_cost, train_avg_acc * 100))\n",
    "                print(\"Validation: {:.3f} (loss), {:.3f} (accuracy)\".format(val_cross_ent_loss, val_accuracy * 100))\n",
    "                print('--------------------------------------------\\n')\n",
    "\n",
    "        print('Accuracy on test set: {0:.2f}'.format(100 * sess.run(classification_accuracy, feed_dict={x: test_x, y: test_y})))\n"
   ]
  },
  {
   "cell_type": "code",
   "execution_count": null,
   "metadata": {
    "collapsed": true
   },
   "outputs": [],
   "source": []
  }
 ],
 "metadata": {
  "kernelspec": {
   "display_name": "Python 3",
   "language": "python",
   "name": "python3"
  },
  "language_info": {
   "codemirror_mode": {
    "name": "ipython",
    "version": 3
   },
   "file_extension": ".py",
   "mimetype": "text/x-python",
   "name": "python",
   "nbconvert_exporter": "python",
   "pygments_lexer": "ipython3",
   "version": "3.6.1"
  }
 },
 "nbformat": 4,
 "nbformat_minor": 2
}
