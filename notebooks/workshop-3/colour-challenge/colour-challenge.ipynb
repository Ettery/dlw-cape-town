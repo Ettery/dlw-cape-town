{
 "cells": [
  {
   "cell_type": "markdown",
   "metadata": {},
   "source": [
    "# DLW Practical 3 (extra)\n",
    "# Any architecture on COLOR\n",
    "\n",
    "**Introduction**\n",
    "\n",
    "In this practical, we will apply a linear model to the COLOR data set. The COLOR data set comes as 18 different colour classes (red, green, gold, etc.) consisting of 9x9x3 RGB images. The data will be downloaded automatically in the first cell. Alternatively, the data can be downloaded [here](https://drive.google.com/open?id=1b2zwUWVVwdJkEAavMXv1D9wfjaG0Nf1W).\n",
    "\n",
    "The challenge is to build a classifier that can correctly classify each of the 18 different colour classes present in the test set. You are welcome to use any network architecture for this exercise. Use a confusion matrix to understand what the model is struggling to classify correctly. What is your best test set accuracy? What network architecture can you use to improve certain colours to get higher classification accuracy?\n",
    "\n"
   ]
  },
  {
   "cell_type": "code",
   "execution_count": 19,
   "metadata": {},
   "outputs": [
    {
     "name": "stdout",
     "output_type": "stream",
     "text": [
      "Data downloaded...\n"
     ]
    }
   ],
   "source": [
    "%matplotlib inline\n",
    "\n",
    "import os\n",
    "import time\n",
    "import datetime\n",
    "import itertools\n",
    "import pandas as pd\n",
    "import pickle as pk\n",
    "import numpy as np\n",
    "import tensorflow as tf\n",
    "import matplotlib.pyplot as plt\n",
    "from PIL import Image, ImageOps\n",
    "from tensorflow.python.framework import graph_util\n",
    "from tensorflow.python.platform import gfile\n",
    "from tensorflow.python.framework import tensor_shape\n",
    "from tensorflow.contrib.tensorboard.plugins import projector\n",
    "\n",
    "if not os.path.isfile('data.pk'):\n",
    "    os.system('curl -L \"https://docs.google.com/uc?export=download&id=1b2zwUWVVwdJkEAavMXv1D9wfjaG0Nf1W\" > data.pk')\n",
    "print(\"Data downloaded...\")"
   ]
  },
  {
   "cell_type": "code",
   "execution_count": 8,
   "metadata": {},
   "outputs": [
    {
     "name": "stdout",
     "output_type": "stream",
     "text": [
      "\n",
      "Training: (6200, 246)\n",
      "Validation: (2067, 246)\n",
      "Testing: (2067, 246)\n",
      "\n",
      "Unique labels: \n",
      "                0\n",
      "0           black\n",
      "1   black & white\n",
      "2            blue\n",
      "3           brown\n",
      "4          copper\n",
      "5            gold\n",
      "6           green\n",
      "7            grey\n",
      "8    multi-colour\n",
      "9         neutral\n",
      "10         orange\n",
      "11           pink\n",
      "12         purple\n",
      "13            red\n",
      "14      rose gold\n",
      "15         silver\n",
      "16          white\n",
      "17         yellow\n",
      "\n",
      "Training examples: 6200\n",
      "Input dimension (flatten): 243\n",
      "Number of classes: 18\n",
      "\n"
     ]
    }
   ],
   "source": [
    "##############################################\n",
    "# open the training, validation and test set #\n",
    "##############################################\n",
    "\n",
    "with open('data.pk', 'rb') as handle:\n",
    "    data = pk.load(handle)\n",
    "\n",
    "print('\\nTraining: {}\\nValidation: {}\\nTesting: {}\\n\\nUnique labels: \\n{}'.format(data[0].shape, data[1].shape, data[2].shape, data[3]))\n",
    "\n",
    "col = len(data[0].columns.values) - 3\n",
    "\n",
    "# one-hot encode the output labels #\n",
    "train_x, train_y = data[0][list(range(col))].values, pd.get_dummies(data[0]['class_id'].values).as_matrix()\n",
    "val_x, val_y = data[1][list(range(col))].values, pd.get_dummies(data[1]['class_id'].values).as_matrix()\n",
    "test_x, test_y = data[2][list(range(col))].values, pd.get_dummies(data[2]['class_id'].values).as_matrix()\n",
    "\n",
    "train_examples, x_dim, n_classes = train_x.shape[0], train_x.shape[1], train_y.shape[1]\n",
    "\n",
    "print('\\nTraining examples: {}\\nInput dimension (flatten): {}\\nNumber of classes: {}\\n'.format(train_examples, x_dim, n_classes))"
   ]
  },
  {
   "cell_type": "code",
   "execution_count": 9,
   "metadata": {},
   "outputs": [],
   "source": [
    "##################\n",
    "# save the model #\n",
    "##################\n",
    "\n",
    "def save_model(session, model_name):\n",
    "    output_graph_def = graph_util.convert_variables_to_constants(session, session.graph.as_graph_def(), ['output_prediction'])\n",
    "    with gfile.FastGFile(model_name, 'wb') as f:\n",
    "        f.write(output_graph_def.SerializeToString())"
   ]
  },
  {
   "cell_type": "code",
   "execution_count": 10,
   "metadata": {},
   "outputs": [],
   "source": [
    "##############\n",
    "# mini-batch #\n",
    "##############\n",
    "\n",
    "def random_mini_batches(X, Y, train_examples, mini_batch_size=64):\n",
    "    np.random.seed(None)\n",
    "    m = train_examples\n",
    "    mini_batches = []\n",
    "\n",
    "    permutation = list(np.random.permutation(m))\n",
    "\n",
    "    shuffled_X = X[permutation, :]\n",
    "    shuffled_Y = Y[permutation, :]\n",
    "    num_complete_minibatches = int(np.floor(m / mini_batch_size))\n",
    "\n",
    "    for k in range(0, num_complete_minibatches):\n",
    "        mini_batch_X = shuffled_X[k * mini_batch_size:(k + 1) * mini_batch_size]\n",
    "        mini_batch_Y = shuffled_Y[k * mini_batch_size:(k + 1) * mini_batch_size]\n",
    "        mini_batch = (mini_batch_X, mini_batch_Y)\n",
    "        mini_batches.append(mini_batch)\n",
    "\n",
    "    # Handling the end case (last mini-batch < mini_batch_size) #\n",
    "    if m % mini_batch_size != 0:\n",
    "        a = m - (num_complete_minibatches * mini_batch_size)\n",
    "        mini_batch_X = shuffled_X[-a:]\n",
    "        mini_batch_Y = shuffled_Y[-a:]\n",
    "        mini_batch = (mini_batch_X, mini_batch_Y)\n",
    "        mini_batches.append(mini_batch)\n",
    "    return mini_batches"
   ]
  },
  {
   "cell_type": "code",
   "execution_count": 46,
   "metadata": {},
   "outputs": [],
   "source": [
    "################\n",
    "# linear model #\n",
    "################\n",
    "\n",
    "def linear_model(x_dim, n_classes):\n",
    "    x = tf.placeholder(tf.float32, [None, x_dim], name='input')\n",
    "    W1 = tf.Variable(tf.random_normal([x_dim, n_classes], stddev=np.sqrt(1. / x_dim)), name='W1')\n",
    "    b1 = tf.Variable(tf.zeros([n_classes]), name='b1')\n",
    "    y = tf.add(tf.matmul(x, W1), b1)\n",
    "    y_ = tf.placeholder(tf.float32, [None, n_classes])\n",
    "    prediction = tf.nn.softmax(y, name='output_prediction')\n",
    "    return x, W1, b1, y, y_, prediction, keep_prob, keep_nodes"
   ]
  },
  {
   "cell_type": "code",
   "execution_count": 50,
   "metadata": {},
   "outputs": [
    {
     "name": "stdout",
     "output_type": "stream",
     "text": [
      "Epochs: 25\n",
      "Mini-batch size: 100\n",
      "Number of mini-batches: 62\n",
      "\n",
      "------------------------------------------\n",
      "Epoch 0:\n",
      "Training loss: 48.908\n",
      "Validation loss: 48.510\n",
      "\n",
      "Training accuracy:   31.52% (Top 3: 59.71%)\n",
      "Validation accuracy: 31.16% (Top 3: 58.01%)\n",
      "------------------------------------------\n",
      "Epoch 1:\n",
      "Training loss: 22.340\n",
      "Validation loss: 22.272\n",
      "\n",
      "Training accuracy:   35.45% (Top 3: 65.90%)\n",
      "Validation accuracy: 35.66% (Top 3: 65.41%)\n",
      "------------------------------------------\n",
      "Epoch 2:\n",
      "Training loss: 19.569\n",
      "Validation loss: 19.816\n",
      "\n",
      "Training accuracy:   36.81% (Top 3: 68.58%)\n",
      "Validation accuracy: 36.09% (Top 3: 68.26%)\n",
      "------------------------------------------\n",
      "Epoch 3:\n",
      "Training loss: 17.513\n",
      "Validation loss: 17.703\n",
      "\n",
      "Training accuracy:   37.06% (Top 3: 66.63%)\n",
      "Validation accuracy: 34.78% (Top 3: 67.20%)\n",
      "------------------------------------------\n",
      "Epoch 4:\n",
      "Training loss: 17.401\n",
      "Validation loss: 18.040\n",
      "\n",
      "Training accuracy:   40.03% (Top 3: 70.31%)\n",
      "Validation accuracy: 39.04% (Top 3: 68.12%)\n",
      "------------------------------------------\n",
      "Epoch 5:\n",
      "Training loss: 15.650\n",
      "Validation loss: 16.374\n",
      "\n",
      "Training accuracy:   42.76% (Top 3: 69.32%)\n",
      "Validation accuracy: 41.27% (Top 3: 68.36%)\n",
      "------------------------------------------\n",
      "Epoch 6:\n",
      "Training loss: 14.627\n",
      "Validation loss: 15.231\n",
      "\n",
      "Training accuracy:   44.52% (Top 3: 73.68%)\n",
      "Validation accuracy: 42.96% (Top 3: 73.00%)\n",
      "------------------------------------------\n",
      "Epoch 7:\n",
      "Training loss: 13.951\n",
      "Validation loss: 14.763\n",
      "\n",
      "Training accuracy:   44.26% (Top 3: 68.11%)\n",
      "Validation accuracy: 44.03% (Top 3: 67.49%)\n",
      "------------------------------------------\n",
      "Epoch 8:\n",
      "Training loss: 13.334\n",
      "Validation loss: 14.345\n",
      "\n",
      "Training accuracy:   35.29% (Top 3: 69.45%)\n",
      "Validation accuracy: 33.62% (Top 3: 66.28%)\n",
      "------------------------------------------\n",
      "Epoch 9:\n",
      "Training loss: 12.950\n",
      "Validation loss: 14.049\n",
      "\n",
      "Training accuracy:   44.97% (Top 3: 72.74%)\n",
      "Validation accuracy: 42.82% (Top 3: 71.31%)\n",
      "------------------------------------------\n",
      "Epoch 10:\n",
      "Training loss: 11.851\n",
      "Validation loss: 13.153\n",
      "\n",
      "Training accuracy:   42.39% (Top 3: 68.92%)\n",
      "Validation accuracy: 40.74% (Top 3: 67.34%)\n",
      "------------------------------------------\n",
      "Epoch 11:\n",
      "Training loss: 12.382\n",
      "Validation loss: 13.692\n",
      "\n",
      "Training accuracy:   43.40% (Top 3: 76.16%)\n",
      "Validation accuracy: 42.48% (Top 3: 73.73%)\n",
      "------------------------------------------\n",
      "Epoch 12:\n",
      "Training loss: 11.495\n",
      "Validation loss: 12.767\n",
      "\n",
      "Training accuracy:   41.15% (Top 3: 69.34%)\n",
      "Validation accuracy: 39.77% (Top 3: 66.28%)\n",
      "------------------------------------------\n",
      "Epoch 13:\n",
      "Training loss: 12.836\n",
      "Validation loss: 14.129\n",
      "\n",
      "Training accuracy:   44.24% (Top 3: 74.05%)\n",
      "Validation accuracy: 40.69% (Top 3: 71.41%)\n",
      "------------------------------------------\n",
      "Epoch 14:\n",
      "Training loss: 11.273\n",
      "Validation loss: 12.715\n",
      "\n",
      "Training accuracy:   41.87% (Top 3: 73.29%)\n",
      "Validation accuracy: 39.53% (Top 3: 72.96%)\n",
      "------------------------------------------\n",
      "Epoch 15:\n",
      "Training loss: 11.597\n",
      "Validation loss: 13.256\n",
      "\n",
      "Training accuracy:   46.23% (Top 3: 72.44%)\n",
      "Validation accuracy: 43.15% (Top 3: 70.44%)\n",
      "------------------------------------------\n",
      "Epoch 16:\n",
      "Training loss: 10.499\n",
      "Validation loss: 12.277\n",
      "\n",
      "Training accuracy:   40.90% (Top 3: 72.16%)\n",
      "Validation accuracy: 40.59% (Top 3: 71.99%)\n",
      "------------------------------------------\n",
      "Epoch 17:\n",
      "Training loss: 10.197\n",
      "Validation loss: 11.936\n",
      "\n",
      "Training accuracy:   46.69% (Top 3: 75.39%)\n",
      "Validation accuracy: 44.94% (Top 3: 74.65%)\n",
      "------------------------------------------\n",
      "Epoch 18:\n",
      "Training loss: 9.307\n",
      "Validation loss: 11.179\n",
      "\n",
      "Training accuracy:   46.34% (Top 3: 71.73%)\n",
      "Validation accuracy: 44.32% (Top 3: 70.39%)\n",
      "------------------------------------------\n",
      "Epoch 19:\n",
      "Training loss: 9.893\n",
      "Validation loss: 11.590\n",
      "\n",
      "Training accuracy:   41.39% (Top 3: 68.37%)\n",
      "Validation accuracy: 40.06% (Top 3: 67.54%)\n",
      "------------------------------------------\n",
      "Epoch 20:\n",
      "Training loss: 10.653\n",
      "Validation loss: 12.551\n",
      "\n",
      "Training accuracy:   46.71% (Top 3: 74.32%)\n",
      "Validation accuracy: 43.73% (Top 3: 71.99%)\n",
      "------------------------------------------\n",
      "Epoch 21:\n",
      "Training loss: 9.757\n",
      "Validation loss: 11.703\n",
      "\n",
      "Training accuracy:   39.35% (Top 3: 70.32%)\n",
      "Validation accuracy: 36.04% (Top 3: 69.33%)\n",
      "------------------------------------------\n",
      "Epoch 22:\n",
      "Training loss: 10.667\n",
      "Validation loss: 12.717\n",
      "\n",
      "Training accuracy:   46.13% (Top 3: 74.16%)\n",
      "Validation accuracy: 43.49% (Top 3: 72.86%)\n",
      "------------------------------------------\n",
      "Epoch 23:\n",
      "Training loss: 9.665\n",
      "Validation loss: 11.580\n",
      "\n",
      "Training accuracy:   43.48% (Top 3: 75.00%)\n",
      "Validation accuracy: 40.35% (Top 3: 73.68%)\n",
      "------------------------------------------\n",
      "Epoch 24:\n",
      "Training loss: 8.906\n",
      "Validation loss: 10.899\n",
      "\n",
      "Training accuracy:   46.73% (Top 3: 74.40%)\n",
      "Validation accuracy: 43.06% (Top 3: 71.21%)\n",
      "INFO:tensorflow:Froze 2 variables.\n",
      "Converted 2 variables to const ops.\n",
      "------------------------------------------\n",
      "\n",
      "Training time: 0:00:24.639617\n",
      "\n"
     ]
    }
   ],
   "source": [
    "#########################\n",
    "# define training cycle #\n",
    "#########################\n",
    "\n",
    "seed = None\n",
    "epochs = 10\n",
    "minibatch_size = 100\n",
    "num_minibatches = int(np.ceil(train_examples / minibatch_size))\n",
    "\n",
    "print('Epochs: {}\\nMini-batch size: {}\\nNumber of mini-batches: {}\\n'.format(epochs, minibatch_size, num_minibatches))\n",
    "\n",
    "graph = tf.Graph()\n",
    "\n",
    "with graph.as_default():\n",
    "\n",
    "    x, W1, b1, y, y_, prediction, keep_prob, keep_nodes = linear_model(x_dim, n_classes)\n",
    "\n",
    "    #############################\n",
    "    # define loss/cost function #\n",
    "    #############################\n",
    "\n",
    "    cross_entropy_loss = tf.reduce_mean(tf.nn.softmax_cross_entropy_with_logits(logits=y, labels=y_))\n",
    "    learning_rate = 0.001\n",
    "    train_step = tf.train.AdamOptimizer(learning_rate).minimize(cross_entropy_loss)\n",
    "\n",
    "    ###########################\n",
    "    # define model evaluation #\n",
    "    ###########################\n",
    "\n",
    "    # returns the index with the largest value across axis of a tensor #\n",
    "    act_class, pred_class = tf.argmax(y_, 1), tf.argmax(tf.nn.softmax(y), 1)\n",
    "    correct_prediction = tf.cast(tf.equal(pred_class, act_class), tf.float32)\n",
    "    classification_accuracy = tf.reduce_mean(correct_prediction)\n",
    "\n",
    "    labels = tf.argmax(y_, 1)\n",
    "    top_3 = tf.nn.in_top_k(tf.nn.softmax(y), labels, 3)\n",
    "    top_3_accuracy = tf.reduce_mean(tf.cast(top_3, tf.float32))\n",
    "\n",
    "    # launch the graph in a session (use the session as a context manager) #\n",
    "    with tf.Session() as sess:\n",
    "        # initializing the variables before starting the session #\n",
    "        init = tf.global_variables_initializer()\n",
    "        # run session #\n",
    "        sess.run(init)\n",
    "        loss = []\n",
    "        start_time = time.time()\n",
    "        # loop every epoch #\n",
    "        for epoch in range(epochs):\n",
    "            # average cost per epoch #\n",
    "            train_avg_cost = 0.\n",
    "            val_avg_cost = 0.\n",
    "            # get mini-batches #\n",
    "            minibatches = random_mini_batches(train_x, train_y, train_examples, minibatch_size)\n",
    "            total_batch = len(minibatches)\n",
    "            # loop every mini-batch #\n",
    "            for minibatch in minibatches:\n",
    "                # determine batch #\n",
    "                batch_xs, batch_ys = minibatch\n",
    "                # calculate validation loss #\n",
    "                train_cross_ent_loss = sess.run(cross_entropy_loss, feed_dict={x: batch_xs, y_: batch_ys})\n",
    "                # calculate validation loss #\n",
    "                val_cross_ent_loss = sess.run(cross_entropy_loss, feed_dict={x: val_x, y_: val_y})\n",
    "                # execute operations on graph #\n",
    "                sess.run(train_step, feed_dict={x: batch_xs, y_: batch_ys})\n",
    "                # average cost per number of mini-batches #\n",
    "                train_avg_cost += train_cross_ent_loss / total_batch\n",
    "                val_avg_cost += val_cross_ent_loss / total_batch\n",
    "                # training and validation accuracy #\n",
    "                train_class_acc, train_top_3_acc = sess.run([classification_accuracy, top_3_accuracy], feed_dict={x: train_x, y_: train_y})\n",
    "                val_class_acc, val_top_3_acc = sess.run([classification_accuracy, top_3_accuracy], feed_dict={x: val_x, y_: val_y})\n",
    "\n",
    "            print('------------------------------------------')\n",
    "            print('Epoch {0}:\\nTraining loss: {1:.3f}\\nValidation loss: {2:.3f}\\n'.format(epoch, train_avg_cost, val_avg_cost))\n",
    "            print('Training accuracy:   {0:.2f}% (Top 3: {1:.2f}%)\\nValidation accuracy: {2:.2f}% (Top 3: {3:.2f}%)'.format(train_class_acc * 100, train_top_3_acc * 100, val_class_acc * 100, val_top_3_acc * 100))\n",
    "                \n",
    "        save_model(sess, 'output_graph.pb')\n",
    "\n",
    "    print('------------------------------------------')\n",
    "    print('\\nTraining time: {}\\n'.format(datetime.timedelta(seconds=time.time() - start_time)))\n",
    "    data[3][0].to_csv(\"labels.txt\", header=False, index=False)\n",
    "\n",
    "    ###############################\n",
    "    # test and evaluate the model #\n",
    "    ###############################\n",
    "\n",
    "    # plot_losses(loss, show=True)\n",
    "    # p_class, a_class, c_acc, t_5 = sess.run([pred_class, act_class, classification_accuracy, top_5_accuracy], feed_dict={x: list(test_x), y_: test_y, keep_prob: 1.0})\n",
    "    # classify_report(a_class, p_class, data[3][0].values)\n",
    "    # print('\\nClassification accuracy: {0:.2f} (Top 3: {1:.2f})\\n'.format(c_acc, t_5))\n",
    "    # print('\\n', classification_report(a_class, p_class, target_names=data[3][0].values))\n",
    "    # confusion_matrix_plot(a_class, p_class, data[3][0].values, show=True)\n"
   ]
  },
  {
   "cell_type": "code",
   "execution_count": 52,
   "metadata": {},
   "outputs": [
    {
     "data": {
      "image/png": "[encoded data removed]",
      "text/plain": [
       "<Figure size 432x288 with 1 Axes>"
      ]
     },
     "metadata": {},
     "output_type": "display_data"
    },
    {
     "name": "stdout",
     "output_type": "stream",
     "text": [
      "\n",
      " 0\n",
      "red                      | 1.0000\n",
      "brown                    | 0.0000\n",
      "orange                   | 0.0000\n"
     ]
    },
    {
     "data": {
      "image/png": "[encoded data removed]",
      "text/plain": [
       "<Figure size 432x288 with 1 Axes>"
      ]
     },
     "metadata": {},
     "output_type": "display_data"
    },
    {
     "name": "stdout",
     "output_type": "stream",
     "text": [
      "\n",
      " 1\n",
      "multi-colour             | 0.4811\n",
      "neutral                  | 0.4534\n",
      "white                    | 0.0627\n"
     ]
    },
    {
     "data": {
      "image/png": "[encoded data removed]",
      "text/plain": [
       "<Figure size 432x288 with 1 Axes>"
      ]
     },
     "metadata": {},
     "output_type": "display_data"
    },
    {
     "name": "stdout",
     "output_type": "stream",
     "text": [
      "\n",
      " 2\n",
      "white                    | 0.9999\n",
      "black & white            | 0.0001\n",
      "silver                   | 0.0000\n"
     ]
    },
    {
     "data": {
      "image/png": "[encoded data removed]",
      "text/plain": [
       "<Figure size 432x288 with 1 Axes>"
      ]
     },
     "metadata": {},
     "output_type": "display_data"
    },
    {
     "name": "stdout",
     "output_type": "stream",
     "text": [
      "\n",
      " 3\n",
      "neutral                  | 1.0000\n",
      "pink                     | 0.0000\n",
      "rose gold                | 0.0000\n"
     ]
    },
    {
     "data": {
      "image/png": "[encoded data removed]",
      "text/plain": [
       "<Figure size 432x288 with 1 Axes>"
      ]
     },
     "metadata": {},
     "output_type": "display_data"
    },
    {
     "name": "stdout",
     "output_type": "stream",
     "text": [
      "\n",
      " 4\n",
      "orange                   | 0.8557\n",
      "brown                    | 0.0988\n",
      "copper                   | 0.0455\n"
     ]
    },
    {
     "data": {
      "image/png": "[encoded data removed]",
      "text/plain": [
       "<Figure size 432x288 with 1 Axes>"
      ]
     },
     "metadata": {},
     "output_type": "display_data"
    },
    {
     "name": "stdout",
     "output_type": "stream",
     "text": [
      "\n",
      " 5\n",
      "blue                     | 0.8478\n",
      "black & white            | 0.1520\n",
      "grey                     | 0.0002\n"
     ]
    },
    {
     "data": {
      "image/png": "[encoded data removed]",
      "text/plain": [
       "<Figure size 432x288 with 1 Axes>"
      ]
     },
     "metadata": {},
     "output_type": "display_data"
    },
    {
     "name": "stdout",
     "output_type": "stream",
     "text": [
      "\n",
      " 6\n",
      "pink                     | 0.9986\n",
      "rose gold                | 0.0013\n",
      "brown                    | 0.0001\n"
     ]
    },
    {
     "data": {
      "image/png": "[encoded data removed]",
      "text/plain": [
       "<Figure size 432x288 with 1 Axes>"
      ]
     },
     "metadata": {},
     "output_type": "display_data"
    },
    {
     "name": "stdout",
     "output_type": "stream",
     "text": [
      "\n",
      " 7\n",
      "neutral                  | 0.9912\n",
      "grey                     | 0.0087\n",
      "multi-colour             | 0.0001\n"
     ]
    },
    {
     "data": {
      "image/png": "[encoded data removed]",
      "text/plain": [
       "<Figure size 432x288 with 1 Axes>"
      ]
     },
     "metadata": {},
     "output_type": "display_data"
    },
    {
     "name": "stdout",
     "output_type": "stream",
     "text": [
      "\n",
      " 8\n",
      "silver                   | 1.0000\n",
      "black & white            | 0.0000\n",
      "yellow                   | 0.0000\n"
     ]
    },
    {
     "data": {
      "image/png": "[encoded data removed]",
      "text/plain": [
       "<Figure size 432x288 with 1 Axes>"
      ]
     },
     "metadata": {},
     "output_type": "display_data"
    },
    {
     "name": "stdout",
     "output_type": "stream",
     "text": [
      "\n",
      " 9\n",
      "silver                   | 1.0000\n",
      "pink                     | 0.0000\n",
      "purple                   | 0.0000\n"
     ]
    }
   ],
   "source": [
    "##########################################################\n",
    "# unpersist tensorflow model and predict test set images #\n",
    "##########################################################\n",
    "\n",
    "labels = dict(enumerate(data[0]['class'].cat.categories))\n",
    "idx = np.random.permutation(500)[:10]\n",
    "\n",
    "# unpersists tensorflow graph from file #\n",
    "with tf.gfile.FastGFile('output_graph.pb', 'rb') as f:\n",
    "    graph_def = tf.GraphDef()\n",
    "    graph_def.ParseFromString(f.read())\n",
    "    tf.import_graph_def(graph_def, name='')\n",
    "\n",
    "# initialise tensorflow session #\n",
    "with tf.Session() as sess:\n",
    "    # feed the image_data as input to the graph and get first prediction #\n",
    "    softmax_tensor = sess.graph.get_tensor_by_name('output_prediction:0')\n",
    "    for i, j in enumerate(idx):\n",
    "        predictions = sess.run(softmax_tensor, {'input:0': test_x[j].reshape(-1, 243)})\n",
    "        top_k = predictions[0].argsort()[-len(predictions[0]):][::-1]\n",
    "        t = np.asarray(test_x[j].reshape(-1, 243), dtype=\"int32\")\n",
    "        im = Image.fromarray(np.uint8(t.reshape(9, 9, 3)))\n",
    "        plt.imshow(im)\n",
    "        plt.show()\n",
    "        # im.save('tests/{}.jpg'.format(i))\n",
    "\n",
    "        print('\\n', i)\n",
    "        # print predictions to stdout for now #\n",
    "        for node_id in top_k[:3]:\n",
    "            human_string = labels[node_id]\n",
    "            score = predictions[0][node_id]\n",
    "            print('{0:24} | {1:.4f}'.format(human_string, score))"
   ]
  },
  {
   "cell_type": "code",
   "execution_count": null,
   "metadata": {},
   "outputs": [],
   "source": []
  }
 ],
 "metadata": {
  "kernelspec": {
   "display_name": "Python 3",
   "language": "python",
   "name": "python3"
  },
  "language_info": {
   "codemirror_mode": {
    "name": "ipython",
    "version": 3
   },
   "file_extension": ".py",
   "mimetype": "text/x-python",
   "name": "python",
   "nbconvert_exporter": "python",
   "pygments_lexer": "ipython3",
   "version": "3.6.1"
  }
 },
 "nbformat": 4,
 "nbformat_minor": 2
}
